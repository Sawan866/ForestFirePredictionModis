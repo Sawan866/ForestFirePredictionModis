{
  "nbformat": 4,
  "nbformat_minor": 0,
  "metadata": {
    "colab": {
      "provenance": [],
      "gpuType": "T4",
      "include_colab_link": true
    },
    "kernelspec": {
      "name": "python3",
      "display_name": "Python 3"
    },
    "language_info": {
      "name": "python"
    },
    "gpuClass": "standard"
  },
  "cells": [
    {
      "cell_type": "markdown",
      "metadata": {
        "id": "view-in-github",
        "colab_type": "text"
      },
      "source": [
        "<a href=\"https://colab.research.google.com/github/Sawan866/ForestFirePredictionModis/blob/main/Prediction_LSTM1.ipynb\" target=\"_parent\"><img src=\"https://colab.research.google.com/assets/colab-badge.svg\" alt=\"Open In Colab\"/></a>"
      ]
    },
    {
      "cell_type": "code",
      "execution_count": null,
      "metadata": {
        "id": "8fpY1VZI5OhG"
      },
      "outputs": [],
      "source": [
        "import pandas as pd\n"
      ]
    },
    {
      "cell_type": "code",
      "source": [
        "test = pd.read_csv('/content/drive/MyDrive/Colab Notebooks/Project/test_data.csv')"
      ],
      "metadata": {
        "id": "h0jFP2K75opZ"
      },
      "execution_count": null,
      "outputs": []
    },
    {
      "cell_type": "code",
      "source": [
        "train  = pd.read_csv('/content/drive/MyDrive/Colab Notebooks/Project/train_data.csv')"
      ],
      "metadata": {
        "id": "DmD1qjbp5vOZ"
      },
      "execution_count": null,
      "outputs": []
    },
    {
      "cell_type": "code",
      "source": [
        "valid = pd.read_csv('/content/drive/MyDrive/Colab Notebooks/Project/valid_data.csv')"
      ],
      "metadata": {
        "id": "3GH-j5UX511W"
      },
      "execution_count": null,
      "outputs": []
    },
    {
      "cell_type": "code",
      "source": [
        "test.info()"
      ],
      "metadata": {
        "colab": {
          "base_uri": "https://localhost:8080/"
        },
        "id": "VHn9BGyA5-P2",
        "outputId": "d3c7d170-598d-4099-de2a-f1cd71a62e6e"
      },
      "execution_count": null,
      "outputs": [
        {
          "output_type": "stream",
          "name": "stdout",
          "text": [
            "<class 'pandas.core.frame.DataFrame'>\n",
            "RangeIndex: 303419 entries, 0 to 303418\n",
            "Data columns (total 13 columns):\n",
            " #   Column       Non-Null Count   Dtype  \n",
            "---  ------       --------------   -----  \n",
            " 0   latitude     303419 non-null  float64\n",
            " 1   longitude    303419 non-null  float64\n",
            " 2   brightness   303419 non-null  float64\n",
            " 3   scan         303419 non-null  float64\n",
            " 4   acq_date     303419 non-null  object \n",
            " 5   acq_time     303419 non-null  int64  \n",
            " 6   satellite_0  303419 non-null  int64  \n",
            " 7   instrument   303419 non-null  object \n",
            " 8   confidence   303419 non-null  int64  \n",
            " 9   version      303419 non-null  float64\n",
            " 10  bright_t31   303419 non-null  float64\n",
            " 11  frp          303419 non-null  float64\n",
            " 12  type         303419 non-null  int64  \n",
            "dtypes: float64(7), int64(4), object(2)\n",
            "memory usage: 30.1+ MB\n"
          ]
        }
      ]
    },
    {
      "cell_type": "code",
      "source": [
        "def group_and_arrange(df, groupby_cols):\n",
        "    df_grouped = df.groupby(groupby_cols).size().reset_index()\n",
        "    df_grouped.columns = list(groupby_cols) + ['frequency']\n",
        "    return df_grouped.drop(columns='frequency')"
      ],
      "metadata": {
        "id": "qFIXqEz6DnAr"
      },
      "execution_count": null,
      "outputs": []
    },
    {
      "cell_type": "code",
      "source": [
        "df_test = group_and_arrange(test, ['brightness', 'scan', 'confidence', 'bright_t31', 'frp', 'type'])"
      ],
      "metadata": {
        "id": "8lxondaEEb8A"
      },
      "execution_count": null,
      "outputs": []
    },
    {
      "cell_type": "code",
      "source": [
        "df_test"
      ],
      "metadata": {
        "colab": {
          "base_uri": "https://localhost:8080/",
          "height": 424
        },
        "id": "o8uhM0_mEt0h",
        "outputId": "a747fb4e-62f8-41b9-90ca-4c48ef6f6262"
      },
      "execution_count": null,
      "outputs": [
        {
          "output_type": "execute_result",
          "data": {
            "text/plain": [
              "        brightness  scan  confidence  bright_t31     frp  type\n",
              "0            300.0   1.0           2       284.4     2.3     0\n",
              "1            300.0   1.0           5       279.2     3.3     0\n",
              "2            300.0   1.0           5       280.7     2.8     0\n",
              "3            300.0   1.0           7       289.7     4.9     2\n",
              "4            300.0   1.0           9       288.1     3.9     0\n",
              "...            ...   ...         ...         ...     ...   ...\n",
              "303255       502.2   1.1         100       400.1  1835.7     0\n",
              "303256       502.7   1.1         100       400.1  1811.8     0\n",
              "303257       503.0   1.1         100       400.1  1808.2     0\n",
              "303258       503.1   2.1         100       329.2  4966.9     0\n",
              "303259       504.0   1.0         100       335.8  1695.0     0\n",
              "\n",
              "[303260 rows x 6 columns]"
            ],
            "text/html": [
              "\n",
              "  <div id=\"df-b0ea6f17-da12-42ba-9037-e7a432fc566d\">\n",
              "    <div class=\"colab-df-container\">\n",
              "      <div>\n",
              "<style scoped>\n",
              "    .dataframe tbody tr th:only-of-type {\n",
              "        vertical-align: middle;\n",
              "    }\n",
              "\n",
              "    .dataframe tbody tr th {\n",
              "        vertical-align: top;\n",
              "    }\n",
              "\n",
              "    .dataframe thead th {\n",
              "        text-align: right;\n",
              "    }\n",
              "</style>\n",
              "<table border=\"1\" class=\"dataframe\">\n",
              "  <thead>\n",
              "    <tr style=\"text-align: right;\">\n",
              "      <th></th>\n",
              "      <th>brightness</th>\n",
              "      <th>scan</th>\n",
              "      <th>confidence</th>\n",
              "      <th>bright_t31</th>\n",
              "      <th>frp</th>\n",
              "      <th>type</th>\n",
              "    </tr>\n",
              "  </thead>\n",
              "  <tbody>\n",
              "    <tr>\n",
              "      <th>0</th>\n",
              "      <td>300.0</td>\n",
              "      <td>1.0</td>\n",
              "      <td>2</td>\n",
              "      <td>284.4</td>\n",
              "      <td>2.3</td>\n",
              "      <td>0</td>\n",
              "    </tr>\n",
              "    <tr>\n",
              "      <th>1</th>\n",
              "      <td>300.0</td>\n",
              "      <td>1.0</td>\n",
              "      <td>5</td>\n",
              "      <td>279.2</td>\n",
              "      <td>3.3</td>\n",
              "      <td>0</td>\n",
              "    </tr>\n",
              "    <tr>\n",
              "      <th>2</th>\n",
              "      <td>300.0</td>\n",
              "      <td>1.0</td>\n",
              "      <td>5</td>\n",
              "      <td>280.7</td>\n",
              "      <td>2.8</td>\n",
              "      <td>0</td>\n",
              "    </tr>\n",
              "    <tr>\n",
              "      <th>3</th>\n",
              "      <td>300.0</td>\n",
              "      <td>1.0</td>\n",
              "      <td>7</td>\n",
              "      <td>289.7</td>\n",
              "      <td>4.9</td>\n",
              "      <td>2</td>\n",
              "    </tr>\n",
              "    <tr>\n",
              "      <th>4</th>\n",
              "      <td>300.0</td>\n",
              "      <td>1.0</td>\n",
              "      <td>9</td>\n",
              "      <td>288.1</td>\n",
              "      <td>3.9</td>\n",
              "      <td>0</td>\n",
              "    </tr>\n",
              "    <tr>\n",
              "      <th>...</th>\n",
              "      <td>...</td>\n",
              "      <td>...</td>\n",
              "      <td>...</td>\n",
              "      <td>...</td>\n",
              "      <td>...</td>\n",
              "      <td>...</td>\n",
              "    </tr>\n",
              "    <tr>\n",
              "      <th>303255</th>\n",
              "      <td>502.2</td>\n",
              "      <td>1.1</td>\n",
              "      <td>100</td>\n",
              "      <td>400.1</td>\n",
              "      <td>1835.7</td>\n",
              "      <td>0</td>\n",
              "    </tr>\n",
              "    <tr>\n",
              "      <th>303256</th>\n",
              "      <td>502.7</td>\n",
              "      <td>1.1</td>\n",
              "      <td>100</td>\n",
              "      <td>400.1</td>\n",
              "      <td>1811.8</td>\n",
              "      <td>0</td>\n",
              "    </tr>\n",
              "    <tr>\n",
              "      <th>303257</th>\n",
              "      <td>503.0</td>\n",
              "      <td>1.1</td>\n",
              "      <td>100</td>\n",
              "      <td>400.1</td>\n",
              "      <td>1808.2</td>\n",
              "      <td>0</td>\n",
              "    </tr>\n",
              "    <tr>\n",
              "      <th>303258</th>\n",
              "      <td>503.1</td>\n",
              "      <td>2.1</td>\n",
              "      <td>100</td>\n",
              "      <td>329.2</td>\n",
              "      <td>4966.9</td>\n",
              "      <td>0</td>\n",
              "    </tr>\n",
              "    <tr>\n",
              "      <th>303259</th>\n",
              "      <td>504.0</td>\n",
              "      <td>1.0</td>\n",
              "      <td>100</td>\n",
              "      <td>335.8</td>\n",
              "      <td>1695.0</td>\n",
              "      <td>0</td>\n",
              "    </tr>\n",
              "  </tbody>\n",
              "</table>\n",
              "<p>303260 rows × 6 columns</p>\n",
              "</div>\n",
              "      <button class=\"colab-df-convert\" onclick=\"convertToInteractive('df-b0ea6f17-da12-42ba-9037-e7a432fc566d')\"\n",
              "              title=\"Convert this dataframe to an interactive table.\"\n",
              "              style=\"display:none;\">\n",
              "        \n",
              "  <svg xmlns=\"http://www.w3.org/2000/svg\" height=\"24px\"viewBox=\"0 0 24 24\"\n",
              "       width=\"24px\">\n",
              "    <path d=\"M0 0h24v24H0V0z\" fill=\"none\"/>\n",
              "    <path d=\"M18.56 5.44l.94 2.06.94-2.06 2.06-.94-2.06-.94-.94-2.06-.94 2.06-2.06.94zm-11 1L8.5 8.5l.94-2.06 2.06-.94-2.06-.94L8.5 2.5l-.94 2.06-2.06.94zm10 10l.94 2.06.94-2.06 2.06-.94-2.06-.94-.94-2.06-.94 2.06-2.06.94z\"/><path d=\"M17.41 7.96l-1.37-1.37c-.4-.4-.92-.59-1.43-.59-.52 0-1.04.2-1.43.59L10.3 9.45l-7.72 7.72c-.78.78-.78 2.05 0 2.83L4 21.41c.39.39.9.59 1.41.59.51 0 1.02-.2 1.41-.59l7.78-7.78 2.81-2.81c.8-.78.8-2.07 0-2.86zM5.41 20L4 18.59l7.72-7.72 1.47 1.35L5.41 20z\"/>\n",
              "  </svg>\n",
              "      </button>\n",
              "      \n",
              "  <style>\n",
              "    .colab-df-container {\n",
              "      display:flex;\n",
              "      flex-wrap:wrap;\n",
              "      gap: 12px;\n",
              "    }\n",
              "\n",
              "    .colab-df-convert {\n",
              "      background-color: #E8F0FE;\n",
              "      border: none;\n",
              "      border-radius: 50%;\n",
              "      cursor: pointer;\n",
              "      display: none;\n",
              "      fill: #1967D2;\n",
              "      height: 32px;\n",
              "      padding: 0 0 0 0;\n",
              "      width: 32px;\n",
              "    }\n",
              "\n",
              "    .colab-df-convert:hover {\n",
              "      background-color: #E2EBFA;\n",
              "      box-shadow: 0px 1px 2px rgba(60, 64, 67, 0.3), 0px 1px 3px 1px rgba(60, 64, 67, 0.15);\n",
              "      fill: #174EA6;\n",
              "    }\n",
              "\n",
              "    [theme=dark] .colab-df-convert {\n",
              "      background-color: #3B4455;\n",
              "      fill: #D2E3FC;\n",
              "    }\n",
              "\n",
              "    [theme=dark] .colab-df-convert:hover {\n",
              "      background-color: #434B5C;\n",
              "      box-shadow: 0px 1px 3px 1px rgba(0, 0, 0, 0.15);\n",
              "      filter: drop-shadow(0px 1px 2px rgba(0, 0, 0, 0.3));\n",
              "      fill: #FFFFFF;\n",
              "    }\n",
              "  </style>\n",
              "\n",
              "      <script>\n",
              "        const buttonEl =\n",
              "          document.querySelector('#df-b0ea6f17-da12-42ba-9037-e7a432fc566d button.colab-df-convert');\n",
              "        buttonEl.style.display =\n",
              "          google.colab.kernel.accessAllowed ? 'block' : 'none';\n",
              "\n",
              "        async function convertToInteractive(key) {\n",
              "          const element = document.querySelector('#df-b0ea6f17-da12-42ba-9037-e7a432fc566d');\n",
              "          const dataTable =\n",
              "            await google.colab.kernel.invokeFunction('convertToInteractive',\n",
              "                                                     [key], {});\n",
              "          if (!dataTable) return;\n",
              "\n",
              "          const docLinkHtml = 'Like what you see? Visit the ' +\n",
              "            '<a target=\"_blank\" href=https://colab.research.google.com/notebooks/data_table.ipynb>data table notebook</a>'\n",
              "            + ' to learn more about interactive tables.';\n",
              "          element.innerHTML = '';\n",
              "          dataTable['output_type'] = 'display_data';\n",
              "          await google.colab.output.renderOutput(dataTable, element);\n",
              "          const docLink = document.createElement('div');\n",
              "          docLink.innerHTML = docLinkHtml;\n",
              "          element.appendChild(docLink);\n",
              "        }\n",
              "      </script>\n",
              "    </div>\n",
              "  </div>\n",
              "  "
            ]
          },
          "metadata": {},
          "execution_count": 16
        }
      ]
    },
    {
      "cell_type": "code",
      "source": [
        "df_train = group_and_arrange(train, ['brightness', 'scan', 'confidence', 'bright_t31', 'frp', 'type'])\n",
        "df_train"
      ],
      "metadata": {
        "colab": {
          "base_uri": "https://localhost:8080/",
          "height": 424
        },
        "id": "gL0y_-x0Evj6",
        "outputId": "b85f5727-a97c-4422-91e7-78dc7d164690"
      },
      "execution_count": null,
      "outputs": [
        {
          "output_type": "execute_result",
          "data": {
            "text/plain": [
              "         brightness  scan  confidence  bright_t31     frp  type\n",
              "0             300.0   1.0           1       289.0     3.5     0\n",
              "1             300.0   1.0           2       285.5     5.2     2\n",
              "2             300.0   1.0           2       286.4     5.0     0\n",
              "3             300.0   1.0           2       287.8     5.1     0\n",
              "4             300.0   1.0           2       288.9     8.5     0\n",
              "...             ...   ...         ...         ...     ...   ...\n",
              "1210813       505.3   1.0         100       400.1  1759.3     0\n",
              "1210814       505.7   1.1         100       400.1  1924.3     0\n",
              "1210815       505.8   1.1          94       400.1  2071.9     0\n",
              "1210816       506.1   1.0         100       336.8  1774.4     0\n",
              "1210817       506.2   1.1         100       400.1  2084.5     0\n",
              "\n",
              "[1210818 rows x 6 columns]"
            ],
            "text/html": [
              "\n",
              "  <div id=\"df-96895586-47b2-4547-bbc9-af61b6ce586b\">\n",
              "    <div class=\"colab-df-container\">\n",
              "      <div>\n",
              "<style scoped>\n",
              "    .dataframe tbody tr th:only-of-type {\n",
              "        vertical-align: middle;\n",
              "    }\n",
              "\n",
              "    .dataframe tbody tr th {\n",
              "        vertical-align: top;\n",
              "    }\n",
              "\n",
              "    .dataframe thead th {\n",
              "        text-align: right;\n",
              "    }\n",
              "</style>\n",
              "<table border=\"1\" class=\"dataframe\">\n",
              "  <thead>\n",
              "    <tr style=\"text-align: right;\">\n",
              "      <th></th>\n",
              "      <th>brightness</th>\n",
              "      <th>scan</th>\n",
              "      <th>confidence</th>\n",
              "      <th>bright_t31</th>\n",
              "      <th>frp</th>\n",
              "      <th>type</th>\n",
              "    </tr>\n",
              "  </thead>\n",
              "  <tbody>\n",
              "    <tr>\n",
              "      <th>0</th>\n",
              "      <td>300.0</td>\n",
              "      <td>1.0</td>\n",
              "      <td>1</td>\n",
              "      <td>289.0</td>\n",
              "      <td>3.5</td>\n",
              "      <td>0</td>\n",
              "    </tr>\n",
              "    <tr>\n",
              "      <th>1</th>\n",
              "      <td>300.0</td>\n",
              "      <td>1.0</td>\n",
              "      <td>2</td>\n",
              "      <td>285.5</td>\n",
              "      <td>5.2</td>\n",
              "      <td>2</td>\n",
              "    </tr>\n",
              "    <tr>\n",
              "      <th>2</th>\n",
              "      <td>300.0</td>\n",
              "      <td>1.0</td>\n",
              "      <td>2</td>\n",
              "      <td>286.4</td>\n",
              "      <td>5.0</td>\n",
              "      <td>0</td>\n",
              "    </tr>\n",
              "    <tr>\n",
              "      <th>3</th>\n",
              "      <td>300.0</td>\n",
              "      <td>1.0</td>\n",
              "      <td>2</td>\n",
              "      <td>287.8</td>\n",
              "      <td>5.1</td>\n",
              "      <td>0</td>\n",
              "    </tr>\n",
              "    <tr>\n",
              "      <th>4</th>\n",
              "      <td>300.0</td>\n",
              "      <td>1.0</td>\n",
              "      <td>2</td>\n",
              "      <td>288.9</td>\n",
              "      <td>8.5</td>\n",
              "      <td>0</td>\n",
              "    </tr>\n",
              "    <tr>\n",
              "      <th>...</th>\n",
              "      <td>...</td>\n",
              "      <td>...</td>\n",
              "      <td>...</td>\n",
              "      <td>...</td>\n",
              "      <td>...</td>\n",
              "      <td>...</td>\n",
              "    </tr>\n",
              "    <tr>\n",
              "      <th>1210813</th>\n",
              "      <td>505.3</td>\n",
              "      <td>1.0</td>\n",
              "      <td>100</td>\n",
              "      <td>400.1</td>\n",
              "      <td>1759.3</td>\n",
              "      <td>0</td>\n",
              "    </tr>\n",
              "    <tr>\n",
              "      <th>1210814</th>\n",
              "      <td>505.7</td>\n",
              "      <td>1.1</td>\n",
              "      <td>100</td>\n",
              "      <td>400.1</td>\n",
              "      <td>1924.3</td>\n",
              "      <td>0</td>\n",
              "    </tr>\n",
              "    <tr>\n",
              "      <th>1210815</th>\n",
              "      <td>505.8</td>\n",
              "      <td>1.1</td>\n",
              "      <td>94</td>\n",
              "      <td>400.1</td>\n",
              "      <td>2071.9</td>\n",
              "      <td>0</td>\n",
              "    </tr>\n",
              "    <tr>\n",
              "      <th>1210816</th>\n",
              "      <td>506.1</td>\n",
              "      <td>1.0</td>\n",
              "      <td>100</td>\n",
              "      <td>336.8</td>\n",
              "      <td>1774.4</td>\n",
              "      <td>0</td>\n",
              "    </tr>\n",
              "    <tr>\n",
              "      <th>1210817</th>\n",
              "      <td>506.2</td>\n",
              "      <td>1.1</td>\n",
              "      <td>100</td>\n",
              "      <td>400.1</td>\n",
              "      <td>2084.5</td>\n",
              "      <td>0</td>\n",
              "    </tr>\n",
              "  </tbody>\n",
              "</table>\n",
              "<p>1210818 rows × 6 columns</p>\n",
              "</div>\n",
              "      <button class=\"colab-df-convert\" onclick=\"convertToInteractive('df-96895586-47b2-4547-bbc9-af61b6ce586b')\"\n",
              "              title=\"Convert this dataframe to an interactive table.\"\n",
              "              style=\"display:none;\">\n",
              "        \n",
              "  <svg xmlns=\"http://www.w3.org/2000/svg\" height=\"24px\"viewBox=\"0 0 24 24\"\n",
              "       width=\"24px\">\n",
              "    <path d=\"M0 0h24v24H0V0z\" fill=\"none\"/>\n",
              "    <path d=\"M18.56 5.44l.94 2.06.94-2.06 2.06-.94-2.06-.94-.94-2.06-.94 2.06-2.06.94zm-11 1L8.5 8.5l.94-2.06 2.06-.94-2.06-.94L8.5 2.5l-.94 2.06-2.06.94zm10 10l.94 2.06.94-2.06 2.06-.94-2.06-.94-.94-2.06-.94 2.06-2.06.94z\"/><path d=\"M17.41 7.96l-1.37-1.37c-.4-.4-.92-.59-1.43-.59-.52 0-1.04.2-1.43.59L10.3 9.45l-7.72 7.72c-.78.78-.78 2.05 0 2.83L4 21.41c.39.39.9.59 1.41.59.51 0 1.02-.2 1.41-.59l7.78-7.78 2.81-2.81c.8-.78.8-2.07 0-2.86zM5.41 20L4 18.59l7.72-7.72 1.47 1.35L5.41 20z\"/>\n",
              "  </svg>\n",
              "      </button>\n",
              "      \n",
              "  <style>\n",
              "    .colab-df-container {\n",
              "      display:flex;\n",
              "      flex-wrap:wrap;\n",
              "      gap: 12px;\n",
              "    }\n",
              "\n",
              "    .colab-df-convert {\n",
              "      background-color: #E8F0FE;\n",
              "      border: none;\n",
              "      border-radius: 50%;\n",
              "      cursor: pointer;\n",
              "      display: none;\n",
              "      fill: #1967D2;\n",
              "      height: 32px;\n",
              "      padding: 0 0 0 0;\n",
              "      width: 32px;\n",
              "    }\n",
              "\n",
              "    .colab-df-convert:hover {\n",
              "      background-color: #E2EBFA;\n",
              "      box-shadow: 0px 1px 2px rgba(60, 64, 67, 0.3), 0px 1px 3px 1px rgba(60, 64, 67, 0.15);\n",
              "      fill: #174EA6;\n",
              "    }\n",
              "\n",
              "    [theme=dark] .colab-df-convert {\n",
              "      background-color: #3B4455;\n",
              "      fill: #D2E3FC;\n",
              "    }\n",
              "\n",
              "    [theme=dark] .colab-df-convert:hover {\n",
              "      background-color: #434B5C;\n",
              "      box-shadow: 0px 1px 3px 1px rgba(0, 0, 0, 0.15);\n",
              "      filter: drop-shadow(0px 1px 2px rgba(0, 0, 0, 0.3));\n",
              "      fill: #FFFFFF;\n",
              "    }\n",
              "  </style>\n",
              "\n",
              "      <script>\n",
              "        const buttonEl =\n",
              "          document.querySelector('#df-96895586-47b2-4547-bbc9-af61b6ce586b button.colab-df-convert');\n",
              "        buttonEl.style.display =\n",
              "          google.colab.kernel.accessAllowed ? 'block' : 'none';\n",
              "\n",
              "        async function convertToInteractive(key) {\n",
              "          const element = document.querySelector('#df-96895586-47b2-4547-bbc9-af61b6ce586b');\n",
              "          const dataTable =\n",
              "            await google.colab.kernel.invokeFunction('convertToInteractive',\n",
              "                                                     [key], {});\n",
              "          if (!dataTable) return;\n",
              "\n",
              "          const docLinkHtml = 'Like what you see? Visit the ' +\n",
              "            '<a target=\"_blank\" href=https://colab.research.google.com/notebooks/data_table.ipynb>data table notebook</a>'\n",
              "            + ' to learn more about interactive tables.';\n",
              "          element.innerHTML = '';\n",
              "          dataTable['output_type'] = 'display_data';\n",
              "          await google.colab.output.renderOutput(dataTable, element);\n",
              "          const docLink = document.createElement('div');\n",
              "          docLink.innerHTML = docLinkHtml;\n",
              "          element.appendChild(docLink);\n",
              "        }\n",
              "      </script>\n",
              "    </div>\n",
              "  </div>\n",
              "  "
            ]
          },
          "metadata": {},
          "execution_count": 17
        }
      ]
    },
    {
      "cell_type": "code",
      "source": [
        "df_valid = group_and_arrange(valid, ['brightness', 'scan', 'confidence', 'bright_t31', 'frp', 'type'])\n",
        "df_valid"
      ],
      "metadata": {
        "colab": {
          "base_uri": "https://localhost:8080/",
          "height": 424
        },
        "id": "JQCMUcyTFeLN",
        "outputId": "02acfe17-a682-4511-e370-4b0b1de54f72"
      },
      "execution_count": null,
      "outputs": [
        {
          "output_type": "execute_result",
          "data": {
            "text/plain": [
              "         brightness  scan  confidence  bright_t31     frp  type\n",
              "0             300.0   1.0           1       289.0     3.5     0\n",
              "1             300.0   1.0           2       284.4     2.3     0\n",
              "2             300.0   1.0           2       285.5     5.2     2\n",
              "3             300.0   1.0           2       286.4     5.0     0\n",
              "4             300.0   1.0           2       287.8     5.1     0\n",
              "...             ...   ...         ...         ...     ...   ...\n",
              "1512716       505.3   1.0         100       400.1  1759.3     0\n",
              "1512717       505.7   1.1         100       400.1  1924.3     0\n",
              "1512718       505.8   1.1          94       400.1  2071.9     0\n",
              "1512719       506.1   1.0         100       336.8  1774.4     0\n",
              "1512720       506.2   1.1         100       400.1  2084.5     0\n",
              "\n",
              "[1512721 rows x 6 columns]"
            ],
            "text/html": [
              "\n",
              "  <div id=\"df-c701230b-c0c8-43ef-9eab-a8fc25922824\">\n",
              "    <div class=\"colab-df-container\">\n",
              "      <div>\n",
              "<style scoped>\n",
              "    .dataframe tbody tr th:only-of-type {\n",
              "        vertical-align: middle;\n",
              "    }\n",
              "\n",
              "    .dataframe tbody tr th {\n",
              "        vertical-align: top;\n",
              "    }\n",
              "\n",
              "    .dataframe thead th {\n",
              "        text-align: right;\n",
              "    }\n",
              "</style>\n",
              "<table border=\"1\" class=\"dataframe\">\n",
              "  <thead>\n",
              "    <tr style=\"text-align: right;\">\n",
              "      <th></th>\n",
              "      <th>brightness</th>\n",
              "      <th>scan</th>\n",
              "      <th>confidence</th>\n",
              "      <th>bright_t31</th>\n",
              "      <th>frp</th>\n",
              "      <th>type</th>\n",
              "    </tr>\n",
              "  </thead>\n",
              "  <tbody>\n",
              "    <tr>\n",
              "      <th>0</th>\n",
              "      <td>300.0</td>\n",
              "      <td>1.0</td>\n",
              "      <td>1</td>\n",
              "      <td>289.0</td>\n",
              "      <td>3.5</td>\n",
              "      <td>0</td>\n",
              "    </tr>\n",
              "    <tr>\n",
              "      <th>1</th>\n",
              "      <td>300.0</td>\n",
              "      <td>1.0</td>\n",
              "      <td>2</td>\n",
              "      <td>284.4</td>\n",
              "      <td>2.3</td>\n",
              "      <td>0</td>\n",
              "    </tr>\n",
              "    <tr>\n",
              "      <th>2</th>\n",
              "      <td>300.0</td>\n",
              "      <td>1.0</td>\n",
              "      <td>2</td>\n",
              "      <td>285.5</td>\n",
              "      <td>5.2</td>\n",
              "      <td>2</td>\n",
              "    </tr>\n",
              "    <tr>\n",
              "      <th>3</th>\n",
              "      <td>300.0</td>\n",
              "      <td>1.0</td>\n",
              "      <td>2</td>\n",
              "      <td>286.4</td>\n",
              "      <td>5.0</td>\n",
              "      <td>0</td>\n",
              "    </tr>\n",
              "    <tr>\n",
              "      <th>4</th>\n",
              "      <td>300.0</td>\n",
              "      <td>1.0</td>\n",
              "      <td>2</td>\n",
              "      <td>287.8</td>\n",
              "      <td>5.1</td>\n",
              "      <td>0</td>\n",
              "    </tr>\n",
              "    <tr>\n",
              "      <th>...</th>\n",
              "      <td>...</td>\n",
              "      <td>...</td>\n",
              "      <td>...</td>\n",
              "      <td>...</td>\n",
              "      <td>...</td>\n",
              "      <td>...</td>\n",
              "    </tr>\n",
              "    <tr>\n",
              "      <th>1512716</th>\n",
              "      <td>505.3</td>\n",
              "      <td>1.0</td>\n",
              "      <td>100</td>\n",
              "      <td>400.1</td>\n",
              "      <td>1759.3</td>\n",
              "      <td>0</td>\n",
              "    </tr>\n",
              "    <tr>\n",
              "      <th>1512717</th>\n",
              "      <td>505.7</td>\n",
              "      <td>1.1</td>\n",
              "      <td>100</td>\n",
              "      <td>400.1</td>\n",
              "      <td>1924.3</td>\n",
              "      <td>0</td>\n",
              "    </tr>\n",
              "    <tr>\n",
              "      <th>1512718</th>\n",
              "      <td>505.8</td>\n",
              "      <td>1.1</td>\n",
              "      <td>94</td>\n",
              "      <td>400.1</td>\n",
              "      <td>2071.9</td>\n",
              "      <td>0</td>\n",
              "    </tr>\n",
              "    <tr>\n",
              "      <th>1512719</th>\n",
              "      <td>506.1</td>\n",
              "      <td>1.0</td>\n",
              "      <td>100</td>\n",
              "      <td>336.8</td>\n",
              "      <td>1774.4</td>\n",
              "      <td>0</td>\n",
              "    </tr>\n",
              "    <tr>\n",
              "      <th>1512720</th>\n",
              "      <td>506.2</td>\n",
              "      <td>1.1</td>\n",
              "      <td>100</td>\n",
              "      <td>400.1</td>\n",
              "      <td>2084.5</td>\n",
              "      <td>0</td>\n",
              "    </tr>\n",
              "  </tbody>\n",
              "</table>\n",
              "<p>1512721 rows × 6 columns</p>\n",
              "</div>\n",
              "      <button class=\"colab-df-convert\" onclick=\"convertToInteractive('df-c701230b-c0c8-43ef-9eab-a8fc25922824')\"\n",
              "              title=\"Convert this dataframe to an interactive table.\"\n",
              "              style=\"display:none;\">\n",
              "        \n",
              "  <svg xmlns=\"http://www.w3.org/2000/svg\" height=\"24px\"viewBox=\"0 0 24 24\"\n",
              "       width=\"24px\">\n",
              "    <path d=\"M0 0h24v24H0V0z\" fill=\"none\"/>\n",
              "    <path d=\"M18.56 5.44l.94 2.06.94-2.06 2.06-.94-2.06-.94-.94-2.06-.94 2.06-2.06.94zm-11 1L8.5 8.5l.94-2.06 2.06-.94-2.06-.94L8.5 2.5l-.94 2.06-2.06.94zm10 10l.94 2.06.94-2.06 2.06-.94-2.06-.94-.94-2.06-.94 2.06-2.06.94z\"/><path d=\"M17.41 7.96l-1.37-1.37c-.4-.4-.92-.59-1.43-.59-.52 0-1.04.2-1.43.59L10.3 9.45l-7.72 7.72c-.78.78-.78 2.05 0 2.83L4 21.41c.39.39.9.59 1.41.59.51 0 1.02-.2 1.41-.59l7.78-7.78 2.81-2.81c.8-.78.8-2.07 0-2.86zM5.41 20L4 18.59l7.72-7.72 1.47 1.35L5.41 20z\"/>\n",
              "  </svg>\n",
              "      </button>\n",
              "      \n",
              "  <style>\n",
              "    .colab-df-container {\n",
              "      display:flex;\n",
              "      flex-wrap:wrap;\n",
              "      gap: 12px;\n",
              "    }\n",
              "\n",
              "    .colab-df-convert {\n",
              "      background-color: #E8F0FE;\n",
              "      border: none;\n",
              "      border-radius: 50%;\n",
              "      cursor: pointer;\n",
              "      display: none;\n",
              "      fill: #1967D2;\n",
              "      height: 32px;\n",
              "      padding: 0 0 0 0;\n",
              "      width: 32px;\n",
              "    }\n",
              "\n",
              "    .colab-df-convert:hover {\n",
              "      background-color: #E2EBFA;\n",
              "      box-shadow: 0px 1px 2px rgba(60, 64, 67, 0.3), 0px 1px 3px 1px rgba(60, 64, 67, 0.15);\n",
              "      fill: #174EA6;\n",
              "    }\n",
              "\n",
              "    [theme=dark] .colab-df-convert {\n",
              "      background-color: #3B4455;\n",
              "      fill: #D2E3FC;\n",
              "    }\n",
              "\n",
              "    [theme=dark] .colab-df-convert:hover {\n",
              "      background-color: #434B5C;\n",
              "      box-shadow: 0px 1px 3px 1px rgba(0, 0, 0, 0.15);\n",
              "      filter: drop-shadow(0px 1px 2px rgba(0, 0, 0, 0.3));\n",
              "      fill: #FFFFFF;\n",
              "    }\n",
              "  </style>\n",
              "\n",
              "      <script>\n",
              "        const buttonEl =\n",
              "          document.querySelector('#df-c701230b-c0c8-43ef-9eab-a8fc25922824 button.colab-df-convert');\n",
              "        buttonEl.style.display =\n",
              "          google.colab.kernel.accessAllowed ? 'block' : 'none';\n",
              "\n",
              "        async function convertToInteractive(key) {\n",
              "          const element = document.querySelector('#df-c701230b-c0c8-43ef-9eab-a8fc25922824');\n",
              "          const dataTable =\n",
              "            await google.colab.kernel.invokeFunction('convertToInteractive',\n",
              "                                                     [key], {});\n",
              "          if (!dataTable) return;\n",
              "\n",
              "          const docLinkHtml = 'Like what you see? Visit the ' +\n",
              "            '<a target=\"_blank\" href=https://colab.research.google.com/notebooks/data_table.ipynb>data table notebook</a>'\n",
              "            + ' to learn more about interactive tables.';\n",
              "          element.innerHTML = '';\n",
              "          dataTable['output_type'] = 'display_data';\n",
              "          await google.colab.output.renderOutput(dataTable, element);\n",
              "          const docLink = document.createElement('div');\n",
              "          docLink.innerHTML = docLinkHtml;\n",
              "          element.appendChild(docLink);\n",
              "        }\n",
              "      </script>\n",
              "    </div>\n",
              "  </div>\n",
              "  "
            ]
          },
          "metadata": {},
          "execution_count": 18
        }
      ]
    },
    {
      "cell_type": "code",
      "source": [
        "import tensorflow as tf\n",
        "from tensorflow import keras\n",
        "from keras import layers\n",
        "from sklearn import metrics\n",
        "import numpy as np\n",
        "import matplotlib.pyplot as plt"
      ],
      "metadata": {
        "id": "0CZEmAgOFqa-"
      },
      "execution_count": null,
      "outputs": []
    },
    {
      "cell_type": "code",
      "source": [
        "features = ['brightness', 'scan', 'confidence', 'bright_t31', 'frp']\n",
        "target = ['type']"
      ],
      "metadata": {
        "id": "5K4cJ4-SGJL1"
      },
      "execution_count": null,
      "outputs": []
    },
    {
      "cell_type": "code",
      "source": [
        "# Define the LSTM model\n",
        "model = keras.Sequential()\n",
        "model.add(layers.LSTM(64, input_shape=(1, len(features)), activation='relu'))\n",
        "model.add(layers.Dense(32, activation='relu'))\n",
        "model.add(layers.Dense(1, activation='sigmoid'))"
      ],
      "metadata": {
        "colab": {
          "base_uri": "https://localhost:8080/"
        },
        "id": "ewiklVyKJxvR",
        "outputId": "4e27c125-46cc-4c72-cc12-3a74d9e0bfac"
      },
      "execution_count": null,
      "outputs": [
        {
          "output_type": "stream",
          "name": "stderr",
          "text": [
            "WARNING:tensorflow:Layer lstm will not use cuDNN kernels since it doesn't meet the criteria. It will use a generic GPU kernel as fallback when running on GPU.\n"
          ]
        }
      ]
    },
    {
      "cell_type": "code",
      "source": [
        "# Compile the model\n",
        "model.compile(optimizer='adam', loss='binary_crossentropy',\n",
        "              metrics=['accuracy', keras.metrics.Precision(),\n",
        "                       keras.metrics.Recall(),\n",
        "                       keras.metrics.RootMeanSquaredError(),\n",
        "                       keras.metrics.AUC()])"
      ],
      "metadata": {
        "id": "hGg-LMHkLiqK"
      },
      "execution_count": null,
      "outputs": []
    },
    {
      "cell_type": "code",
      "source": [
        "# Define early stopping callback\n",
        "early_stopping_callback = keras.callbacks.EarlyStopping(monitor='val_accuracy',\n",
        "                                                        patience=5,\n",
        "                                                        mode='max',\n",
        "                                                        verbose=1)"
      ],
      "metadata": {
        "id": "xIuJfz2aLs32"
      },
      "execution_count": null,
      "outputs": []
    },
    {
      "cell_type": "code",
      "source": [
        "# Define a callback to save checkpoints\n",
        "checkpoint_callback = keras.callbacks.ModelCheckpoint(\n",
        "    filepath='best_model_weights.h5',\n",
        "    save_weights_only=True,\n",
        "    save_best_only=True,\n",
        "    monitor='val_accuracy',\n",
        "    mode='max',\n",
        "    verbose=1\n",
        ")"
      ],
      "metadata": {
        "id": "bGvnB61jLv0U"
      },
      "execution_count": null,
      "outputs": []
    },
    {
      "cell_type": "code",
      "source": [
        "# Train the model\n",
        "history = model.fit(np.array(df_train[features]).reshape(-1, 1, len(features)), np.array(df_train[target]),\n",
        "                    validation_data=(np.array(df_valid[features]).reshape(-1, 1, len(features)), np.array(df_valid[target])),\n",
        "                    epochs=10,\n",
        "                    batch_size=32,\n",
        "                    verbose=1,\n",
        "                    callbacks=[early_stopping_callback, checkpoint_callback])"
      ],
      "metadata": {
        "colab": {
          "base_uri": "https://localhost:8080/"
        },
        "id": "rcmnan87LyRf",
        "outputId": "3b52594b-d2ca-407e-ae3a-cd55563df2ce"
      },
      "execution_count": null,
      "outputs": [
        {
          "output_type": "stream",
          "name": "stdout",
          "text": [
            "Epoch 1/10\n",
            "37838/37839 [============================>.] - ETA: 0s - loss: 0.2283 - accuracy: 0.9658 - precision: 0.2742 - recall: 0.0067 - root_mean_squared_error: 0.3589 - auc: 0.7028\n",
            "Epoch 1: val_accuracy improved from -inf to 0.96630, saving model to best_model_weights.h5\n",
            "37839/37839 [==============================] - 445s 12ms/step - loss: 0.2283 - accuracy: 0.9658 - precision: 0.2742 - recall: 0.0067 - root_mean_squared_error: 0.3589 - auc: 0.7028 - val_loss: 0.2224 - val_accuracy: 0.9663 - val_precision: 0.7955 - val_recall: 0.0034 - val_root_mean_squared_error: 0.3579 - val_auc: 0.7472\n",
            "Epoch 2/10\n",
            "37838/37839 [============================>.] - ETA: 0s - loss: 0.2196 - accuracy: 0.9652 - precision: 0.2526 - recall: 0.0114 - root_mean_squared_error: 0.3579 - auc: 0.7258\n",
            "Epoch 2: val_accuracy did not improve from 0.96630\n",
            "37839/37839 [==============================] - 437s 12ms/step - loss: 0.2196 - accuracy: 0.9652 - precision: 0.2526 - recall: 0.0114 - root_mean_squared_error: 0.3579 - auc: 0.7258 - val_loss: 0.2045 - val_accuracy: 0.9642 - val_precision: 0.2520 - val_recall: 0.0209 - val_root_mean_squared_error: 0.3571 - val_auc: 0.7404\n",
            "Epoch 3/10\n",
            "37839/37839 [==============================] - ETA: 0s - loss: 0.1940 - accuracy: 0.9658 - precision: 0.3128 - recall: 0.0068 - root_mean_squared_error: 0.3577 - auc: 0.7304\n",
            "Epoch 3: val_accuracy did not improve from 0.96630\n",
            "37839/37839 [==============================] - 441s 12ms/step - loss: 0.1940 - accuracy: 0.9658 - precision: 0.3128 - recall: 0.0068 - root_mean_squared_error: 0.3577 - auc: 0.7304 - val_loss: 0.1483 - val_accuracy: 0.9654 - val_precision: 0.2916 - val_recall: 0.0114 - val_root_mean_squared_error: 0.3562 - val_auc: 0.7557\n",
            "Epoch 4/10\n",
            "37837/37839 [============================>.] - ETA: 0s - loss: 0.0867 - accuracy: 0.9655 - precision: 0.2817 - recall: 0.0100 - root_mean_squared_error: 0.3573 - auc: 0.7358\n",
            "Epoch 4: val_accuracy did not improve from 0.96630\n",
            "37839/37839 [==============================] - 450s 12ms/step - loss: 0.0867 - accuracy: 0.9655 - precision: 0.2817 - recall: 0.0100 - root_mean_squared_error: 0.3573 - auc: 0.7358 - val_loss: -0.0636 - val_accuracy: 0.9663 - val_precision: 0.6044 - val_recall: 0.0038 - val_root_mean_squared_error: 0.3569 - val_auc: 0.7575\n",
            "Epoch 5/10\n",
            "37839/37839 [==============================] - ETA: 0s - loss: -0.2024 - accuracy: 0.9654 - precision: 0.2690 - recall: 0.0101 - root_mean_squared_error: 0.3572 - auc: 0.7389\n",
            "Epoch 5: val_accuracy did not improve from 0.96630\n",
            "37839/37839 [==============================] - 437s 12ms/step - loss: -0.2024 - accuracy: 0.9654 - precision: 0.2690 - recall: 0.0101 - root_mean_squared_error: 0.3572 - auc: 0.7389 - val_loss: -0.4659 - val_accuracy: 0.9662 - val_precision: 0.5987 - val_recall: 0.0038 - val_root_mean_squared_error: 0.3566 - val_auc: 0.7599\n",
            "Epoch 6/10\n",
            "37839/37839 [==============================] - ETA: 0s - loss: -0.9084 - accuracy: 0.9654 - precision: 0.2598 - recall: 0.0096 - root_mean_squared_error: 0.3570 - auc: 0.7429\n",
            "Epoch 6: val_accuracy did not improve from 0.96630\n",
            "37839/37839 [==============================] - 440s 12ms/step - loss: -0.9084 - accuracy: 0.9654 - precision: 0.2598 - recall: 0.0096 - root_mean_squared_error: 0.3570 - auc: 0.7429 - val_loss: -1.4961 - val_accuracy: 0.9661 - val_precision: 0.4560 - val_recall: 0.0050 - val_root_mean_squared_error: 0.3563 - val_auc: 0.7553\n",
            "Epoch 6: early stopping\n"
          ]
        }
      ]
    },
    {
      "cell_type": "code",
      "source": [
        "# Predict on test set\n",
        "test_predictions = model.predict(np.array(test[features]).reshape(-1, 1, len(features)))"
      ],
      "metadata": {
        "colab": {
          "base_uri": "https://localhost:8080/"
        },
        "id": "LEgjrGaDZbod",
        "outputId": "e3cca443-4b4e-4b7b-b35e-76cf9aa840cd"
      },
      "execution_count": null,
      "outputs": [
        {
          "output_type": "stream",
          "name": "stdout",
          "text": [
            "9482/9482 [==============================] - 19s 2ms/step\n"
          ]
        }
      ]
    },
    {
      "cell_type": "code",
      "source": [
        "# Calculate metrics\n",
        "test_acc = metrics.accuracy_score(test[target], np.round(test_predictions))\n",
        "test_f1 = metrics.f1_score(test[target], np.round(test_predictions), average = 'weighted' )\n",
        "test_precision = metrics.precision_score(test[target], np.round(test_predictions), average = 'weighted')\n",
        "test_recall = metrics.recall_score(test[target], np.round(test_predictions), average = 'weighted')\n",
        "test_rmse = np.sqrt(metrics.mean_squared_error(test[target], test_predictions))\n",
        "# test_auc = metrics.roc_auc_score(test[target], test_predictions, multi_class = 'ovr')"
      ],
      "metadata": {
        "colab": {
          "base_uri": "https://localhost:8080/"
        },
        "id": "QKP7lCGvZlWx",
        "outputId": "8f749f8f-8a0d-4765-899f-71e1546762e0"
      },
      "execution_count": null,
      "outputs": [
        {
          "output_type": "stream",
          "name": "stderr",
          "text": [
            "/usr/local/lib/python3.10/dist-packages/sklearn/metrics/_classification.py:1344: UndefinedMetricWarning: Precision is ill-defined and being set to 0.0 in labels with no predicted samples. Use `zero_division` parameter to control this behavior.\n",
            "  _warn_prf(average, modifier, msg_start, len(result))\n"
          ]
        }
      ]
    },
    {
      "cell_type": "code",
      "source": [
        "# Print the metrics\n",
        "print(\"Test Accuracy: \", test_acc)\n",
        "print(\"Test F1 Score: \", test_f1)\n",
        "print(\"Test Precision: \", test_precision)\n",
        "print(\"Test Recall: \", test_recall)\n",
        "print(\"Test Root Mean Squared Error: \", test_rmse)"
      ],
      "metadata": {
        "colab": {
          "base_uri": "https://localhost:8080/"
        },
        "id": "8G0N8KlkeBFW",
        "outputId": "e7e5e8fb-2450-40fe-baab-54753fcfdbe9"
      },
      "execution_count": null,
      "outputs": [
        {
          "output_type": "stream",
          "name": "stdout",
          "text": [
            "Test Accuracy:  0.966215035973357\n",
            "Test F1 Score:  0.9498596049077022\n",
            "Test Precision:  0.9340516482092144\n",
            "Test Recall:  0.966215035973357\n",
            "Test Root Mean Squared Error:  0.356284409723072\n"
          ]
        }
      ]
    },
    {
      "cell_type": "code",
      "source": [
        "%matplotlib inline\n",
        "# Plot the loss and accuracy over the epochs\n",
        "plt.figure(figsize=(12, 6))\n",
        "plt.subplot(1, 2, 1)\n",
        "plt.plot(history.history['loss'], label='Training Loss')\n",
        "plt.plot(history.history['val_loss'], label='Validation Loss')\n",
        "plt.xlabel('Epoch')\n",
        "plt.ylabel('Loss')\n",
        "plt.legend()\n",
        "\n",
        "plt.subplot(1, 2, 2)\n",
        "plt.plot(history.history['accuracy'], label='Training Accuracy')\n",
        "plt.plot(history.history['val_accuracy'], label='Validation Accuracy')\n",
        "plt.xlabel('Epoch')\n",
        "plt.ylabel('Accuracy')\n",
        "plt.legend()\n",
        "\n",
        "plt.show()"
      ],
      "metadata": {
        "colab": {
          "base_uri": "https://localhost:8080/",
          "height": 542
        },
        "id": "722ZknUgeis0",
        "outputId": "996132b4-bfc1-4d38-e791-745a9b763197"
      },
      "execution_count": null,
      "outputs": [
        {
          "output_type": "display_data",
          "data": {
            "text/plain": [
              "<Figure size 1200x600 with 2 Axes>"
            ],
            "image/png": "[encoded data removed]"
          },
          "metadata": {}
        }
      ]
    },
    {
      "cell_type": "code",
      "source": [],
      "metadata": {
        "id": "O81ELpydfe49"
      },
      "execution_count": null,
      "outputs": []
    }
  ]
}