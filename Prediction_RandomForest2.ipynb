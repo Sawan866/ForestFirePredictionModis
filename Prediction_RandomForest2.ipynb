{
  "nbformat": 4,
  "nbformat_minor": 0,
  "metadata": {
    "colab": {
      "provenance": [],
      "gpuType": "T4",
      "include_colab_link": true
    },
    "kernelspec": {
      "name": "python3",
      "display_name": "Python 3"
    },
    "language_info": {
      "name": "python"
    },
    "accelerator": "GPU",
    "gpuClass": "standard"
  },
  "cells": [
    {
      "cell_type": "markdown",
      "metadata": {
        "id": "view-in-github",
        "colab_type": "text"
      },
      "source": [
        "<a href=\"https://colab.research.google.com/github/Sawan866/ForestFirePredictionModis/blob/main/Prediction_RandomForest2.ipynb\" target=\"_parent\"><img src=\"https://colab.research.google.com/assets/colab-badge.svg\" alt=\"Open In Colab\"/></a>"
      ]
    },
    {
      "cell_type": "code",
      "execution_count": null,
      "metadata": {
        "id": "Ens_-JVngo3W"
      },
      "outputs": [],
      "source": [
        "import numpy as np\n",
        "import pandas as pd\n",
        "import matplotlib.pyplot as plt\n",
        "from sklearn.ensemble import RandomForestClassifier\n",
        "from sklearn.metrics import accuracy_score, f1_score, precision_score, recall_score, mean_squared_error, roc_auc_score\n"
      ]
    },
    {
      "cell_type": "code",
      "source": [
        "# Load the data\n",
        "test = pd.read_csv('/content/drive/MyDrive/Colab Notebooks/Project/test_data.csv')\n",
        "train  = pd.read_csv('/content/drive/MyDrive/Colab Notebooks/Project/train_data.csv')\n",
        "valid = pd.read_csv('/content/drive/MyDrive/Colab Notebooks/Project/valid_data.csv')"
      ],
      "metadata": {
        "id": "9XaZIASliNU2"
      },
      "execution_count": null,
      "outputs": []
    },
    {
      "cell_type": "code",
      "source": [
        "def group_and_arrange(df, groupby_cols):\n",
        "    df_grouped = df.groupby(groupby_cols).size().reset_index()\n",
        "    df_grouped.columns = list(groupby_cols) + ['frequency']\n",
        "    return df_grouped.drop(columns='frequency')"
      ],
      "metadata": {
        "id": "Jp0T2Na1jSA1"
      },
      "execution_count": null,
      "outputs": []
    },
    {
      "cell_type": "code",
      "source": [
        "df_test = group_and_arrange(test, ['brightness', 'scan', 'confidence', 'bright_t31', 'frp', 'type'])\n",
        "df_train = group_and_arrange(train, ['brightness', 'scan', 'confidence', 'bright_t31', 'frp', 'type'])\n",
        "df_valid = group_and_arrange(valid, ['brightness', 'scan', 'confidence', 'bright_t31', 'frp', 'type'])"
      ],
      "metadata": {
        "id": "cfNXvxyLjXIQ"
      },
      "execution_count": null,
      "outputs": []
    },
    {
      "cell_type": "code",
      "source": [
        "# Define the features and target\n",
        "features = ['brightness', 'scan', 'confidence', 'bright_t31', 'frp']\n",
        "target = ['type']"
      ],
      "metadata": {
        "id": "D3g1ENgNjNa-"
      },
      "execution_count": null,
      "outputs": []
    },
    {
      "cell_type": "code",
      "source": [
        "# Define the random forest model\n",
        "model = RandomForestClassifier(n_estimators=100, max_depth=10, random_state=42)\n",
        "\n"
      ],
      "metadata": {
        "id": "X1p-GeFN4ym6"
      },
      "execution_count": null,
      "outputs": []
    },
    {
      "cell_type": "code",
      "source": [
        "# Train the model\n",
        "model.fit(train[features], train[target])"
      ],
      "metadata": {
        "colab": {
          "base_uri": "https://localhost:8080/",
          "height": 129
        },
        "id": "X0qUdp-g2sip",
        "outputId": "a685d95b-5d4d-4087-f94e-25766a249f2d"
      },
      "execution_count": null,
      "outputs": [
        {
          "output_type": "stream",
          "name": "stderr",
          "text": [
            "<ipython-input-9-fbd497c3d0aa>:2: DataConversionWarning: A column-vector y was passed when a 1d array was expected. Please change the shape of y to (n_samples,), for example using ravel().\n",
            "  model.fit(train[features], train[target])\n"
          ]
        },
        {
          "output_type": "execute_result",
          "data": {
            "text/plain": [
              "RandomForestClassifier(max_depth=10, random_state=42)"
            ],
            "text/html": [
              "<style>#sk-container-id-1 {color: black;background-color: white;}#sk-container-id-1 pre{padding: 0;}#sk-container-id-1 div.sk-toggleable {background-color: white;}#sk-container-id-1 label.sk-toggleable__label {cursor: pointer;display: block;width: 100%;margin-bottom: 0;padding: 0.3em;box-sizing: border-box;text-align: center;}#sk-container-id-1 label.sk-toggleable__label-arrow:before {content: \"▸\";float: left;margin-right: 0.25em;color: #696969;}#sk-container-id-1 label.sk-toggleable__label-arrow:hover:before {color: black;}#sk-container-id-1 div.sk-estimator:hover label.sk-toggleable__label-arrow:before {color: black;}#sk-container-id-1 div.sk-toggleable__content {max-height: 0;max-width: 0;overflow: hidden;text-align: left;background-color: #f0f8ff;}#sk-container-id-1 div.sk-toggleable__content pre {margin: 0.2em;color: black;border-radius: 0.25em;background-color: #f0f8ff;}#sk-container-id-1 input.sk-toggleable__control:checked~div.sk-toggleable__content {max-height: 200px;max-width: 100%;overflow: auto;}#sk-container-id-1 input.sk-toggleable__control:checked~label.sk-toggleable__label-arrow:before {content: \"▾\";}#sk-container-id-1 div.sk-estimator input.sk-toggleable__control:checked~label.sk-toggleable__label {background-color: #d4ebff;}#sk-container-id-1 div.sk-label input.sk-toggleable__control:checked~label.sk-toggleable__label {background-color: #d4ebff;}#sk-container-id-1 input.sk-hidden--visually {border: 0;clip: rect(1px 1px 1px 1px);clip: rect(1px, 1px, 1px, 1px);height: 1px;margin: -1px;overflow: hidden;padding: 0;position: absolute;width: 1px;}#sk-container-id-1 div.sk-estimator {font-family: monospace;background-color: #f0f8ff;border: 1px dotted black;border-radius: 0.25em;box-sizing: border-box;margin-bottom: 0.5em;}#sk-container-id-1 div.sk-estimator:hover {background-color: #d4ebff;}#sk-container-id-1 div.sk-parallel-item::after {content: \"\";width: 100%;border-bottom: 1px solid gray;flex-grow: 1;}#sk-container-id-1 div.sk-label:hover label.sk-toggleable__label {background-color: #d4ebff;}#sk-container-id-1 div.sk-serial::before {content: \"\";position: absolute;border-left: 1px solid gray;box-sizing: border-box;top: 0;bottom: 0;left: 50%;z-index: 0;}#sk-container-id-1 div.sk-serial {display: flex;flex-direction: column;align-items: center;background-color: white;padding-right: 0.2em;padding-left: 0.2em;position: relative;}#sk-container-id-1 div.sk-item {position: relative;z-index: 1;}#sk-container-id-1 div.sk-parallel {display: flex;align-items: stretch;justify-content: center;background-color: white;position: relative;}#sk-container-id-1 div.sk-item::before, #sk-container-id-1 div.sk-parallel-item::before {content: \"\";position: absolute;border-left: 1px solid gray;box-sizing: border-box;top: 0;bottom: 0;left: 50%;z-index: -1;}#sk-container-id-1 div.sk-parallel-item {display: flex;flex-direction: column;z-index: 1;position: relative;background-color: white;}#sk-container-id-1 div.sk-parallel-item:first-child::after {align-self: flex-end;width: 50%;}#sk-container-id-1 div.sk-parallel-item:last-child::after {align-self: flex-start;width: 50%;}#sk-container-id-1 div.sk-parallel-item:only-child::after {width: 0;}#sk-container-id-1 div.sk-dashed-wrapped {border: 1px dashed gray;margin: 0 0.4em 0.5em 0.4em;box-sizing: border-box;padding-bottom: 0.4em;background-color: white;}#sk-container-id-1 div.sk-label label {font-family: monospace;font-weight: bold;display: inline-block;line-height: 1.2em;}#sk-container-id-1 div.sk-label-container {text-align: center;}#sk-container-id-1 div.sk-container {/* jupyter's `normalize.less` sets `[hidden] { display: none; }` but bootstrap.min.css set `[hidden] { display: none !important; }` so we also need the `!important` here to be able to override the default hidden behavior on the sphinx rendered scikit-learn.org. See: https://github.com/scikit-learn/scikit-learn/issues/21755 */display: inline-block !important;position: relative;}#sk-container-id-1 div.sk-text-repr-fallback {display: none;}</style><div id=\"sk-container-id-1\" class=\"sk-top-container\"><div class=\"sk-text-repr-fallback\"><pre>RandomForestClassifier(max_depth=10, random_state=42)</pre><b>In a Jupyter environment, please rerun this cell to show the HTML representation or trust the notebook. <br />On GitHub, the HTML representation is unable to render, please try loading this page with nbviewer.org.</b></div><div class=\"sk-container\" hidden><div class=\"sk-item\"><div class=\"sk-estimator sk-toggleable\"><input class=\"sk-toggleable__control sk-hidden--visually\" id=\"sk-estimator-id-1\" type=\"checkbox\" checked><label for=\"sk-estimator-id-1\" class=\"sk-toggleable__label sk-toggleable__label-arrow\">RandomForestClassifier</label><div class=\"sk-toggleable__content\"><pre>RandomForestClassifier(max_depth=10, random_state=42)</pre></div></div></div></div></div>"
            ]
          },
          "metadata": {},
          "execution_count": 9
        }
      ]
    },
    {
      "cell_type": "code",
      "source": [
        "# Predict on validation set\n",
        "valid_predictions = model.predict(valid[features])"
      ],
      "metadata": {
        "id": "3BYPrGuf5KOB"
      },
      "execution_count": null,
      "outputs": []
    },
    {
      "cell_type": "code",
      "source": [
        "# Calculate metrics for validation set\n",
        "valid_acc = accuracy_score(valid[target], valid_predictions)\n",
        "valid_f1 = f1_score(valid[target], valid_predictions, average='weighted')\n",
        "valid_precision = precision_score(valid[target], valid_predictions, average='weighted')\n",
        "valid_recall = recall_score(valid[target], valid_predictions, average='weighted')\n",
        "valid_rmse = np.sqrt(mean_squared_error(valid[target], valid_predictions))\n",
        "# valid_auc = roc_auc_score(valid[target], valid_predictions, multi_class='ovr')"
      ],
      "metadata": {
        "colab": {
          "base_uri": "https://localhost:8080/"
        },
        "id": "UH_E-kMF5NDY",
        "outputId": "abb28d28-aac1-4d44-f45c-145b6c41844e"
      },
      "execution_count": null,
      "outputs": [
        {
          "output_type": "stream",
          "name": "stderr",
          "text": [
            "/usr/local/lib/python3.10/dist-packages/sklearn/metrics/_classification.py:1344: UndefinedMetricWarning: Precision is ill-defined and being set to 0.0 in labels with no predicted samples. Use `zero_division` parameter to control this behavior.\n",
            "  _warn_prf(average, modifier, msg_start, len(result))\n"
          ]
        }
      ]
    },
    {
      "cell_type": "code",
      "source": [
        "# Print the metrics for validation set\n",
        "print(\"Validation Accuracy: \", valid_acc)\n",
        "print(\"Validation F1 Score: \", valid_f1)\n",
        "print(\"Validation Precision: \", valid_precision)\n",
        "print(\"Validation Recall: \", valid_recall)\n",
        "print(\"Validation Root Mean Squared Error: \", valid_rmse)\n"
      ],
      "metadata": {
        "colab": {
          "base_uri": "https://localhost:8080/"
        },
        "id": "y65OSpCC5Plp",
        "outputId": "145aaaab-f0c7-430d-8b0a-5d766a92aeba"
      },
      "execution_count": null,
      "outputs": [
        {
          "output_type": "stream",
          "name": "stdout",
          "text": [
            "Validation Accuracy:  0.9665300677018482\n",
            "Validation F1 Score:  0.9502085458691756\n",
            "Validation Precision:  0.9661616422797491\n",
            "Validation Recall:  0.9665300677018482\n",
            "Validation Root Mean Squared Error:  0.368005550447595\n"
          ]
        }
      ]
    },
    {
      "cell_type": "code",
      "source": [
        "# Predict on test set\n",
        "test_predictions = model.predict(test[features])\n"
      ],
      "metadata": {
        "id": "axX2mn9E5ZCa"
      },
      "execution_count": null,
      "outputs": []
    },
    {
      "cell_type": "code",
      "source": [
        "# Calculate metrics for test set\n",
        "test_acc = accuracy_score(test[target], test_predictions)\n",
        "test_f1 = f1_score(test[target], test_predictions, average='weighted')\n",
        "test_precision = precision_score(test[target], test_predictions, average='weighted')\n",
        "test_recall = recall_score(test[target], test_predictions, average='weighted')\n",
        "test_rmse = np.sqrt(mean_squared_error(test[target], test_predictions))\n",
        "# test_auc = roc_auc_score(test[target], test_predictions, multi_class='ovr')"
      ],
      "metadata": {
        "colab": {
          "base_uri": "https://localhost:8080/"
        },
        "id": "otleyFdY5biw",
        "outputId": "8d1a4477-c56f-4f7a-972d-99d02b47cb8e"
      },
      "execution_count": null,
      "outputs": [
        {
          "output_type": "stream",
          "name": "stderr",
          "text": [
            "/usr/local/lib/python3.10/dist-packages/sklearn/metrics/_classification.py:1344: UndefinedMetricWarning: Precision is ill-defined and being set to 0.0 in labels with no predicted samples. Use `zero_division` parameter to control this behavior.\n",
            "  _warn_prf(average, modifier, msg_start, len(result))\n"
          ]
        }
      ]
    },
    {
      "cell_type": "code",
      "source": [
        "# Print the metrics for test set\n",
        "print(\"Test Accuracy: \", test_acc)\n",
        "print(\"Test F1 Score: \", test_f1)\n",
        "print(\"Test Precision: \", test_precision)\n",
        "print(\"Test Recall: \", test_recall)\n",
        "print(\"Test Root Mean Squared Error: \", test_rmse)\n",
        "# print(\"Test Area Under the Curve (AUC): \", test_auc)"
      ],
      "metadata": {
        "colab": {
          "base_uri": "https://localhost:8080/"
        },
        "id": "RiaM2Wtp-Eog",
        "outputId": "37e07cc2-3c35-4f49-e1df-74e030f4fb0a"
      },
      "execution_count": null,
      "outputs": [
        {
          "output_type": "stream",
          "name": "stdout",
          "text": [
            "Test Accuracy:  0.96648528931939\n",
            "Test F1 Score:  0.9501197866087179\n",
            "Test Precision:  0.9622679497825289\n",
            "Test Recall:  0.96648528931939\n",
            "Test Root Mean Squared Error:  0.36823629436249655\n"
          ]
        }
      ]
    },
    {
      "cell_type": "code",
      "source": [],
      "metadata": {
        "id": "t7TVmcUp_xrI"
      },
      "execution_count": null,
      "outputs": []
    }
  ]
}